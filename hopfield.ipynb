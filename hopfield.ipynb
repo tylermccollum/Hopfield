{
 "cells": [
  {
   "cell_type": "code",
   "execution_count": 842,
   "metadata": {},
   "outputs": [],
   "source": [
    "import numpy as np\n",
    "import matplotlib.pyplot as plt\n",
    "import argparse\n",
    "import torch\n",
    "import torch.nn as nn\n",
    "import torch.nn.functional as F\n",
    "import torch.optim as optim\n",
    "from torchvision import datasets, transforms\n",
    "from torch.optim.lr_scheduler import StepLR\n",
    "\n",
    "from PIL import Image\n"
   ]
  },
  {
   "cell_type": "code",
   "execution_count": 843,
   "metadata": {},
   "outputs": [],
   "source": [
    "def plot (arr_in):\n",
    "    plt.imshow(arr_in, 'Greys')\n",
    "    plt.show()"
   ]
  },
  {
   "cell_type": "code",
   "execution_count": 844,
   "metadata": {},
   "outputs": [],
   "source": [
    "def outer_product_3d(matrix1, matrix2):\n",
    "    # Reshape matrix1 to (m, n, 1) and matrix2 to (1, p, q)\n",
    "    return matrix1[:, :, np.newaxis] * matrix2[np.newaxis, :, :]"
   ]
  },
  {
   "cell_type": "code",
   "execution_count": 845,
   "metadata": {},
   "outputs": [
    {
     "name": "stdout",
     "output_type": "stream",
     "text": [
      "Weights = [0.56183871 0.90790282 0.49934115 0.14758302 0.39078073 0.11836479\n",
      " 0.48438791 0.54377875 0.69536187 0.85380013] \n",
      "            Current state = [0.39087835]\n"
     ]
    }
   ],
   "source": [
    "class neuron ():\n",
    "    def __init__(self, size) -> None:\n",
    "        self.weights = np.random.rand(size)\n",
    "        self.output = np.random.random(1)\n",
    "        pass\n",
    "\n",
    "    def __repr__(self) -> str:\n",
    "        return f\"Weights = {self.weights} \\n\\\n",
    "            Current state = {self.output}\"\n",
    "\n",
    "\n",
    "first_neuron = neuron(10)\n",
    "print(first_neuron)"
   ]
  },
  {
   "cell_type": "code",
   "execution_count": 846,
   "metadata": {},
   "outputs": [],
   "source": [
    "class hopfield (): \n",
    "    def __init__(self, shape) -> None:\n",
    "        # Set weights to range [-1,1)\n",
    "        \n",
    "        self.input_weights = np.identity(shape[1]) * 1 #np.full((shape[0], shape[1]), 1.0)\n",
    "        self.internal_weights = np.random.rand(shape[0], shape[0], shape[0])\n",
    "        #Avoid self-feedback\n",
    "        np.fill_diagonal(self.internal_weights, 0)\n",
    "        self.outputs = np.random.rand(shape[0],shape[1])*2 -1 \n",
    "        self.learning_rate = 0.01\n",
    "        self.hebb = np.zeros((shape[0], shape[0], shape[0]))\n",
    "\n",
    "    def __repr__(self) -> str:\n",
    "        return f\"Internal weights: {self.internal_weights}\\n\\n\\\n",
    "            Current state: {self.outputs}\"\n",
    "\n",
    "    def update (self, input):\n",
    "        #Behold! ReLU\n",
    "        # print(f\"Input shape: {input.shape}\")\n",
    "        # print(f\"Input weights shape: {self.input_weights.shape}\")\n",
    "        input_activation = self.input_weights @ input\n",
    "\n",
    "        # print(f\"Internal weights shape: {self.internal_weights.shape}\")\n",
    "        # print(f\"Ouputs shape: {self.outputs.shape}\")\n",
    "        self_activation = np.einsum('ijk,ij->ij', self.internal_weights, self.outputs)\n",
    "\n",
    "        new_outputs =  input_activation + self_activation\n",
    "        # print(f\"New outputs: {new_outputs}\")\n",
    "        \n",
    "        \n",
    "        # hebb = new_outputs @ self.outputs.T #@ new_outputs.T #new_outputs @ self.outputs.T'\n",
    "        self.hebb = outer_product_3d(new_outputs, new_outputs)\n",
    "        # print(f\"hebb shape: {self.hebb.shape}\")\n",
    "        self.internal_weights += self.hebb * self.learning_rate * -1\n",
    "        # np.fill_diagonal(self.internal_weights, 0)\n",
    "        \n",
    "        self.internal_weights = np.clip(self.internal_weights, 0, None)\n",
    "        self.input_weights = self.input_weights * 0.99\n",
    "\n",
    "        self.outputs = np.clip(self.outputs, -1, 1)\n",
    "\n",
    "    def visualize_weights (self):\n",
    "        plt.imshow(self.internal_weights, 'Greys')\n",
    "\n",
    "    def visualize_outputs (self):\n",
    "        plt.imshow(self.outputs, 'Greys')\n",
    "\n",
    "hop = hopfield([10,10])\n",
    "# print(hop)\n",
    "# hop.visualize_weights()"
   ]
  },
  {
   "cell_type": "code",
   "execution_count": 847,
   "metadata": {},
   "outputs": [
    {
     "name": "stderr",
     "output_type": "stream",
     "text": [
      "/tmp/ipykernel_7585/3946843270.py:3: RuntimeWarning: overflow encountered in multiply\n",
      "  return matrix1[:, :, np.newaxis] * matrix2[np.newaxis, :, :]\n"
     ]
    },
    {
     "data": {
      "image/png": "[encoded data removed]",
      "text/plain": [
       "<Figure size 432x288 with 1 Axes>"
      ]
     },
     "metadata": {
      "needs_background": "light"
     },
     "output_type": "display_data"
    }
   ],
   "source": [
    "for i in range (0, 100):\n",
    "    hop.update(smily)\n",
    "# hop.visualize_weights()\n",
    "# print(f\"Current weights: {hop.internal_weights}\")\n",
    "hop.visualize_outputs()\n",
    "    \n",
    "    "
   ]
  },
  {
   "cell_type": "code",
   "execution_count": 848,
   "metadata": {},
   "outputs": [
    {
     "name": "stdout",
     "output_type": "stream",
     "text": [
      "[[[inf  0.  0.  0. inf  0. inf inf  0.  0.]\n",
      "  [inf  0.  0. inf inf  0. inf inf inf  0.]\n",
      "  [ 0.  0. inf  0. inf  0. inf  0. inf  0.]\n",
      "  [ 0.  0.  0. inf inf inf inf  0.  0.  0.]\n",
      "  [ 0.  0. inf  0. inf  0. inf inf inf inf]\n",
      "  [inf  0.  0. inf inf  0. inf inf  0.  0.]\n",
      "  [ 0. inf  0. inf inf  0. inf  0.  0.  0.]\n",
      "  [inf inf inf  0. inf  0.  0.  0.  0. inf]\n",
      "  [ 0.  0. inf  0. inf inf  0. inf inf  0.]\n",
      "  [ 0.  0. inf  0. inf  0. inf inf  0. inf]]\n",
      "\n",
      " [[ 0. inf inf inf  0. inf  0.  0. inf inf]\n",
      "  [ 0. inf inf  0.  0. inf  0.  0.  0. inf]\n",
      "  [inf inf  0. inf  0. inf  0. inf  0. inf]\n",
      "  [ 0.  0.  0. inf inf inf inf  0.  0.  0.]\n",
      "  [inf inf  0. inf  0. inf  0.  0.  0.  0.]\n",
      "  [ 0. inf inf  0.  0. inf  0.  0. inf inf]\n",
      "  [inf  0. inf  0.  0. inf  0. inf inf inf]\n",
      "  [ 0.  0.  0. inf  0. inf inf inf inf  0.]\n",
      "  [ 0.  0. inf  0. inf inf  0. inf inf  0.]\n",
      "  [inf inf  0. inf  0. inf  0.  0. inf  0.]]\n",
      "\n",
      " [[inf  0.  0.  0. inf  0. inf inf  0.  0.]\n",
      "  [ 0. inf inf  0.  0. inf  0.  0.  0. inf]\n",
      "  [ 0.  0. inf  0. inf  0. inf  0. inf  0.]\n",
      "  [inf inf inf  0.  0.  0.  0. inf inf inf]\n",
      "  [inf inf  0. inf  0. inf  0.  0.  0.  0.]\n",
      "  [ 0. inf inf  0.  0. inf  0.  0. inf inf]\n",
      "  [inf  0. inf  0.  0. inf  0. inf inf inf]\n",
      "  [inf inf inf  0. inf  0.  0.  0.  0. inf]\n",
      "  [ 0.  0. inf  0. inf inf  0. inf inf  0.]\n",
      "  [inf inf  0. inf  0. inf  0.  0. inf  0.]]\n",
      "\n",
      " [[inf  0.  0.  0. inf  0. inf inf  0.  0.]\n",
      "  [ 0. inf inf  0.  0. inf  0.  0.  0. inf]\n",
      "  [inf inf  0. inf  0. inf  0. inf  0. inf]\n",
      "  [ 0.  0.  0. inf inf inf inf  0.  0.  0.]\n",
      "  [inf inf  0. inf  0. inf  0.  0.  0.  0.]\n",
      "  [inf  0.  0. inf inf  0. inf inf  0.  0.]\n",
      "  [inf  0. inf  0.  0. inf  0. inf inf inf]\n",
      "  [inf inf inf  0. inf  0.  0.  0.  0. inf]\n",
      "  [inf inf  0. inf  0.  0. inf  0.  0. inf]\n",
      "  [inf inf  0. inf  0. inf  0.  0. inf  0.]]\n",
      "\n",
      " [[ 0. inf inf inf  0. inf  0.  0. inf inf]\n",
      "  [inf  0.  0. inf inf  0. inf inf inf  0.]\n",
      "  [inf inf  0. inf  0. inf  0. inf  0. inf]\n",
      "  [ 0.  0.  0. inf inf inf inf  0.  0.  0.]\n",
      "  [ 0.  0. inf  0. inf  0. inf inf inf inf]\n",
      "  [inf  0.  0. inf inf  0. inf inf  0.  0.]\n",
      "  [ 0. inf  0. inf inf  0. inf  0.  0.  0.]\n",
      "  [inf inf inf  0. inf  0.  0.  0.  0. inf]\n",
      "  [inf inf  0. inf  0.  0. inf  0.  0. inf]\n",
      "  [inf inf  0. inf  0. inf  0.  0. inf  0.]]\n",
      "\n",
      " [[ 0. inf inf inf  0. inf  0.  0. inf inf]\n",
      "  [ 0. inf inf  0.  0. inf  0.  0.  0. inf]\n",
      "  [inf inf  0. inf  0. inf  0. inf  0. inf]\n",
      "  [ 0.  0.  0. inf inf inf inf  0.  0.  0.]\n",
      "  [inf inf  0. inf  0. inf  0.  0.  0.  0.]\n",
      "  [ 0. inf inf  0.  0. inf  0.  0. inf inf]\n",
      "  [inf  0. inf  0.  0. inf  0. inf inf inf]\n",
      "  [ 0.  0.  0. inf  0. inf inf inf inf  0.]\n",
      "  [inf inf  0. inf  0.  0. inf  0.  0. inf]\n",
      "  [inf inf  0. inf  0. inf  0.  0. inf  0.]]\n",
      "\n",
      " [[ 0. inf inf inf  0. inf  0.  0. inf inf]\n",
      "  [ 0. inf inf  0.  0. inf  0.  0.  0. inf]\n",
      "  [ 0.  0. inf  0. inf  0. inf  0. inf  0.]\n",
      "  [inf inf inf  0.  0.  0.  0. inf inf inf]\n",
      "  [ 0.  0. inf  0. inf  0. inf inf inf inf]\n",
      "  [inf  0.  0. inf inf  0. inf inf  0.  0.]\n",
      "  [ 0. inf  0. inf inf  0. inf  0.  0.  0.]\n",
      "  [ 0.  0.  0. inf  0. inf inf inf inf  0.]\n",
      "  [ 0.  0. inf  0. inf inf  0. inf inf  0.]\n",
      "  [ 0.  0. inf  0. inf  0. inf inf  0. inf]]\n",
      "\n",
      " [[inf  0.  0.  0. inf  0. inf inf  0.  0.]\n",
      "  [ 0. inf inf  0.  0. inf  0.  0.  0. inf]\n",
      "  [inf inf  0. inf  0. inf  0. inf  0. inf]\n",
      "  [ 0.  0.  0. inf inf inf inf  0.  0.  0.]\n",
      "  [ 0.  0. inf  0. inf  0. inf inf inf inf]\n",
      "  [inf  0.  0. inf inf  0. inf inf  0.  0.]\n",
      "  [inf  0. inf  0.  0. inf  0. inf inf inf]\n",
      "  [ 0.  0.  0. inf  0. inf inf inf inf  0.]\n",
      "  [ 0.  0. inf  0. inf inf  0. inf inf  0.]\n",
      "  [inf inf  0. inf  0. inf  0.  0. inf  0.]]\n",
      "\n",
      " [[inf  0.  0.  0. inf  0. inf inf  0.  0.]\n",
      "  [ 0. inf inf  0.  0. inf  0.  0.  0. inf]\n",
      "  [ 0.  0. inf  0. inf  0. inf  0. inf  0.]\n",
      "  [inf inf inf  0.  0.  0.  0. inf inf inf]\n",
      "  [inf inf  0. inf  0. inf  0.  0.  0.  0.]\n",
      "  [inf  0.  0. inf inf  0. inf inf  0.  0.]\n",
      "  [ 0. inf  0. inf inf  0. inf  0.  0.  0.]\n",
      "  [ 0.  0.  0. inf  0. inf inf inf inf  0.]\n",
      "  [ 0.  0. inf  0. inf inf  0. inf inf  0.]\n",
      "  [inf inf  0. inf  0. inf  0.  0. inf  0.]]\n",
      "\n",
      " [[inf  0.  0.  0. inf  0. inf inf  0.  0.]\n",
      "  [ 0. inf inf  0.  0. inf  0.  0.  0. inf]\n",
      "  [ 0.  0. inf  0. inf  0. inf  0. inf  0.]\n",
      "  [inf inf inf  0.  0.  0.  0. inf inf inf]\n",
      "  [inf inf  0. inf  0. inf  0.  0.  0.  0.]\n",
      "  [ 0. inf inf  0.  0. inf  0.  0. inf inf]\n",
      "  [inf  0. inf  0.  0. inf  0. inf inf inf]\n",
      "  [ 0.  0.  0. inf  0. inf inf inf inf  0.]\n",
      "  [inf inf  0. inf  0.  0. inf  0.  0. inf]\n",
      "  [ 0.  0. inf  0. inf  0. inf inf  0. inf]]]\n",
      "[[[ inf -inf -inf -inf  inf -inf  inf  inf -inf -inf]\n",
      "  [ inf -inf -inf  inf  inf -inf  inf  inf  inf -inf]\n",
      "  [-inf -inf  inf -inf  inf -inf  inf -inf  inf -inf]\n",
      "  [-inf -inf -inf  inf  inf  inf  inf -inf -inf -inf]\n",
      "  [-inf -inf  inf -inf  inf -inf  inf  inf  inf  inf]\n",
      "  [ inf -inf -inf  inf  inf -inf  inf  inf -inf -inf]\n",
      "  [-inf  inf -inf  inf  inf -inf  inf -inf -inf -inf]\n",
      "  [ inf  inf  inf -inf  inf -inf -inf -inf -inf  inf]\n",
      "  [-inf -inf  inf -inf  inf  inf -inf  inf  inf -inf]\n",
      "  [-inf -inf  inf -inf  inf -inf  inf  inf -inf  inf]]\n",
      "\n",
      " [[-inf  inf  inf  inf -inf  inf -inf -inf  inf  inf]\n",
      "  [-inf  inf  inf -inf -inf  inf -inf -inf -inf  inf]\n",
      "  [ inf  inf -inf  inf -inf  inf -inf  inf -inf  inf]\n",
      "  [-inf -inf -inf  inf  inf  inf  inf -inf -inf -inf]\n",
      "  [ inf  inf -inf  inf -inf  inf -inf -inf -inf -inf]\n",
      "  [-inf  inf  inf -inf -inf  inf -inf -inf  inf  inf]\n",
      "  [ inf -inf  inf -inf -inf  inf -inf  inf  inf  inf]\n",
      "  [-inf -inf -inf  inf -inf  inf  inf  inf  inf -inf]\n",
      "  [-inf -inf  inf -inf  inf  inf -inf  inf  inf -inf]\n",
      "  [ inf  inf -inf  inf -inf  inf -inf -inf  inf -inf]]\n",
      "\n",
      " [[ inf -inf -inf -inf  inf -inf  inf  inf -inf -inf]\n",
      "  [-inf  inf  inf -inf -inf  inf -inf -inf -inf  inf]\n",
      "  [-inf -inf  inf -inf  inf -inf  inf -inf  inf -inf]\n",
      "  [ inf  inf  inf -inf -inf -inf -inf  inf  inf  inf]\n",
      "  [ inf  inf -inf  inf -inf  inf -inf -inf -inf -inf]\n",
      "  [-inf  inf  inf -inf -inf  inf -inf -inf  inf  inf]\n",
      "  [ inf -inf  inf -inf -inf  inf -inf  inf  inf  inf]\n",
      "  [ inf  inf  inf -inf  inf -inf -inf -inf -inf  inf]\n",
      "  [-inf -inf  inf -inf  inf  inf -inf  inf  inf -inf]\n",
      "  [ inf  inf -inf  inf -inf  inf -inf -inf  inf -inf]]\n",
      "\n",
      " [[ inf -inf -inf -inf  inf -inf  inf  inf -inf -inf]\n",
      "  [-inf  inf  inf -inf -inf  inf -inf -inf -inf  inf]\n",
      "  [ inf  inf -inf  inf -inf  inf -inf  inf -inf  inf]\n",
      "  [-inf -inf -inf  inf  inf  inf  inf -inf -inf -inf]\n",
      "  [ inf  inf -inf  inf -inf  inf -inf -inf -inf -inf]\n",
      "  [ inf -inf -inf  inf  inf -inf  inf  inf -inf -inf]\n",
      "  [ inf -inf  inf -inf -inf  inf -inf  inf  inf  inf]\n",
      "  [ inf  inf  inf -inf  inf -inf -inf -inf -inf  inf]\n",
      "  [ inf  inf -inf  inf -inf -inf  inf -inf -inf  inf]\n",
      "  [ inf  inf -inf  inf -inf  inf -inf -inf  inf -inf]]\n",
      "\n",
      " [[-inf  inf  inf  inf -inf  inf -inf -inf  inf  inf]\n",
      "  [ inf -inf -inf  inf  inf -inf  inf  inf  inf -inf]\n",
      "  [ inf  inf -inf  inf -inf  inf -inf  inf -inf  inf]\n",
      "  [-inf -inf -inf  inf  inf  inf  inf -inf -inf -inf]\n",
      "  [-inf -inf  inf -inf  inf -inf  inf  inf  inf  inf]\n",
      "  [ inf -inf -inf  inf  inf -inf  inf  inf -inf -inf]\n",
      "  [-inf  inf -inf  inf  inf -inf  inf -inf -inf -inf]\n",
      "  [ inf  inf  inf -inf  inf -inf -inf -inf -inf  inf]\n",
      "  [ inf  inf -inf  inf -inf -inf  inf -inf -inf  inf]\n",
      "  [ inf  inf -inf  inf -inf  inf -inf -inf  inf -inf]]\n",
      "\n",
      " [[-inf  inf  inf  inf -inf  inf -inf -inf  inf  inf]\n",
      "  [-inf  inf  inf -inf -inf  inf -inf -inf -inf  inf]\n",
      "  [ inf  inf -inf  inf -inf  inf -inf  inf -inf  inf]\n",
      "  [-inf -inf -inf  inf  inf  inf  inf -inf -inf -inf]\n",
      "  [ inf  inf -inf  inf -inf  inf -inf -inf -inf -inf]\n",
      "  [-inf  inf  inf -inf -inf  inf -inf -inf  inf  inf]\n",
      "  [ inf -inf  inf -inf -inf  inf -inf  inf  inf  inf]\n",
      "  [-inf -inf -inf  inf -inf  inf  inf  inf  inf -inf]\n",
      "  [ inf  inf -inf  inf -inf -inf  inf -inf -inf  inf]\n",
      "  [ inf  inf -inf  inf -inf  inf -inf -inf  inf -inf]]\n",
      "\n",
      " [[-inf  inf  inf  inf -inf  inf -inf -inf  inf  inf]\n",
      "  [-inf  inf  inf -inf -inf  inf -inf -inf -inf  inf]\n",
      "  [-inf -inf  inf -inf  inf -inf  inf -inf  inf -inf]\n",
      "  [ inf  inf  inf -inf -inf -inf -inf  inf  inf  inf]\n",
      "  [-inf -inf  inf -inf  inf -inf  inf  inf  inf  inf]\n",
      "  [ inf -inf -inf  inf  inf -inf  inf  inf -inf -inf]\n",
      "  [-inf  inf -inf  inf  inf -inf  inf -inf -inf -inf]\n",
      "  [-inf -inf -inf  inf -inf  inf  inf  inf  inf -inf]\n",
      "  [-inf -inf  inf -inf  inf  inf -inf  inf  inf -inf]\n",
      "  [-inf -inf  inf -inf  inf -inf  inf  inf -inf  inf]]\n",
      "\n",
      " [[ inf -inf -inf -inf  inf -inf  inf  inf -inf -inf]\n",
      "  [-inf  inf  inf -inf -inf  inf -inf -inf -inf  inf]\n",
      "  [ inf  inf -inf  inf -inf  inf -inf  inf -inf  inf]\n",
      "  [-inf -inf -inf  inf  inf  inf  inf -inf -inf -inf]\n",
      "  [-inf -inf  inf -inf  inf -inf  inf  inf  inf  inf]\n",
      "  [ inf -inf -inf  inf  inf -inf  inf  inf -inf -inf]\n",
      "  [ inf -inf  inf -inf -inf  inf -inf  inf  inf  inf]\n",
      "  [-inf -inf -inf  inf -inf  inf  inf  inf  inf -inf]\n",
      "  [-inf -inf  inf -inf  inf  inf -inf  inf  inf -inf]\n",
      "  [ inf  inf -inf  inf -inf  inf -inf -inf  inf -inf]]\n",
      "\n",
      " [[ inf -inf -inf -inf  inf -inf  inf  inf -inf -inf]\n",
      "  [-inf  inf  inf -inf -inf  inf -inf -inf -inf  inf]\n",
      "  [-inf -inf  inf -inf  inf -inf  inf -inf  inf -inf]\n",
      "  [ inf  inf  inf -inf -inf -inf -inf  inf  inf  inf]\n",
      "  [ inf  inf -inf  inf -inf  inf -inf -inf -inf -inf]\n",
      "  [ inf -inf -inf  inf  inf -inf  inf  inf -inf -inf]\n",
      "  [-inf  inf -inf  inf  inf -inf  inf -inf -inf -inf]\n",
      "  [-inf -inf -inf  inf -inf  inf  inf  inf  inf -inf]\n",
      "  [-inf -inf  inf -inf  inf  inf -inf  inf  inf -inf]\n",
      "  [ inf  inf -inf  inf -inf  inf -inf -inf  inf -inf]]\n",
      "\n",
      " [[ inf -inf -inf -inf  inf -inf  inf  inf -inf -inf]\n",
      "  [-inf  inf  inf -inf -inf  inf -inf -inf -inf  inf]\n",
      "  [-inf -inf  inf -inf  inf -inf  inf -inf  inf -inf]\n",
      "  [ inf  inf  inf -inf -inf -inf -inf  inf  inf  inf]\n",
      "  [ inf  inf -inf  inf -inf  inf -inf -inf -inf -inf]\n",
      "  [-inf  inf  inf -inf -inf  inf -inf -inf  inf  inf]\n",
      "  [ inf -inf  inf -inf -inf  inf -inf  inf  inf  inf]\n",
      "  [-inf -inf -inf  inf -inf  inf  inf  inf  inf -inf]\n",
      "  [ inf  inf -inf  inf -inf -inf  inf -inf -inf  inf]\n",
      "  [-inf -inf  inf -inf  inf -inf  inf  inf -inf  inf]]]\n"
     ]
    }
   ],
   "source": [
    "print(hop.internal_weights)\n",
    "print(hop.hebb)"
   ]
  },
  {
   "cell_type": "code",
   "execution_count": 849,
   "metadata": {},
   "outputs": [
    {
     "name": "stdout",
     "output_type": "stream",
     "text": [
      "[[0.36603234 0.         0.         0.         0.         0.\n",
      "  0.         0.         0.         0.        ]\n",
      " [0.         0.36603234 0.         0.         0.         0.\n",
      "  0.         0.         0.         0.        ]\n",
      " [0.         0.         0.36603234 0.         0.         0.\n",
      "  0.         0.         0.         0.        ]\n",
      " [0.         0.         0.         0.36603234 0.         0.\n",
      "  0.         0.         0.         0.        ]\n",
      " [0.         0.         0.         0.         0.36603234 0.\n",
      "  0.         0.         0.         0.        ]\n",
      " [0.         0.         0.         0.         0.         0.36603234\n",
      "  0.         0.         0.         0.        ]\n",
      " [0.         0.         0.         0.         0.         0.\n",
      "  0.36603234 0.         0.         0.        ]\n",
      " [0.         0.         0.         0.         0.         0.\n",
      "  0.         0.36603234 0.         0.        ]\n",
      " [0.         0.         0.         0.         0.         0.\n",
      "  0.         0.         0.36603234 0.        ]\n",
      " [0.         0.         0.         0.         0.         0.\n",
      "  0.         0.         0.         0.36603234]]\n"
     ]
    }
   ],
   "source": [
    "print(hop.input_weights)"
   ]
  },
  {
   "cell_type": "markdown",
   "metadata": {},
   "source": [
    "## Reconstruction\n",
    "If the network has been successfully trained, it will re-form the learned pattern after distortion of state"
   ]
  },
  {
   "cell_type": "code",
   "execution_count": 850,
   "metadata": {},
   "outputs": [
    {
     "data": {
      "image/png": "[encoded data removed]",
      "text/plain": [
       "<Figure size 432x288 with 1 Axes>"
      ]
     },
     "metadata": {
      "needs_background": "light"
     },
     "output_type": "display_data"
    }
   ],
   "source": [
    "hop.outputs = np.random.rand(10,10)\n",
    "new_inputs = np.zeros((10,10))\n",
    "\n",
    "hop.visualize_outputs()"
   ]
  },
  {
   "cell_type": "code",
   "execution_count": 851,
   "metadata": {},
   "outputs": [
    {
     "data": {
      "image/png": "[encoded data removed]",
      "text/plain": [
       "<Figure size 432x288 with 1 Axes>"
      ]
     },
     "metadata": {
      "needs_background": "light"
     },
     "output_type": "display_data"
    }
   ],
   "source": [
    "for i in range (0,1):\n",
    "    hop.update(new_inputs)\n",
    "    hop.visualize_outputs()"
   ]
  }
 ],
 "metadata": {
  "kernelspec": {
   "display_name": "base",
   "language": "python",
   "name": "python3"
  },
  "language_info": {
   "codemirror_mode": {
    "name": "ipython",
    "version": 3
   },
   "file_extension": ".py",
   "mimetype": "text/x-python",
   "name": "python",
   "nbconvert_exporter": "python",
   "pygments_lexer": "ipython3",
   "version": "3.10.12"
  }
 },
 "nbformat": 4,
 "nbformat_minor": 2
}
